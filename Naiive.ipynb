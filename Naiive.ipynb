{
 "cells": [
  {
   "cell_type": "code",
   "execution_count": 1,
   "metadata": {},
   "outputs": [],
   "source": [
    "import numpy as np \n",
    "import matplotlib.pyplot as plt\n",
    "import math"
   ]
  },
  {
   "cell_type": "code",
   "execution_count": 2,
   "metadata": {},
   "outputs": [],
   "source": [
    "def normpdf(x, mean, var):\n",
    "    denom = (2*math.pi*var)**.5\n",
    "    num = math.exp(-(float(x)-float(mean))**2/(2*var))\n",
    "    return num/denom\n",
    "def getmaxindex(array):\n",
    "    max_index=0\n",
    "    for i in range(array.size):\n",
    "        if(array[max_index]<array[i]):\n",
    "            max_index = i        \n",
    "    return max_index\n",
    "def getclass(test,mean,var):\n",
    "    probaility = np.zeros(10)\n",
    "    for i in range(10):\n",
    "        muse = mean[i]\n",
    "        variance = var[i]\n",
    "        prob = np.zeros(784)\n",
    "        for j in range(muse.size):\n",
    "            prob[j] = (normpdf(test[j], muse[j], variance[j]))\n",
    "        probaility[i] = np.prod(prob)\n",
    "    return getmaxindex(probaility)"
   ]
  },
  {
   "cell_type": "code",
   "execution_count": 3,
   "metadata": {},
   "outputs": [],
   "source": [
    "#-----------------Create X----------------------\n",
    "x = np.zeros((2400,784))\n",
    "for i in range(x.shape[0]):\n",
    "    image_index = str(i+1)\n",
    "    url = \"./Train/\"+image_index+\".jpg\"\n",
    "    image = plt.imread(url)\n",
    "    x[i] = np.divide(np.array(image.flatten()), 255)\n",
    "#-----------------Create T----------------------\n",
    "t = np.zeros((2400,10))\n",
    "for z in range(t.shape[1]):\n",
    "    rangez = (z+1)*240\n",
    "    for y in range(t.shape[0]):\n",
    "        if(y>=rangez-240 and y<rangez):\n",
    "            t[y][z]=1\n",
    "        else:\n",
    "            t[y][z]=-1\n",
    "#--------------------Create X_Test-------------------------------\n",
    "x_test = np.zeros((200,784))\n",
    "for i in range(x_test.shape[0]):\n",
    "    image_index = str(i+1)\n",
    "    url = \"./Test/\"+image_index+\".jpg\"\n",
    "    image = plt.imread(url)\n",
    "    x_test[i] = np.divide(np.array(image.flatten()), 255)"
   ]
  },
  {
   "cell_type": "code",
   "execution_count": 5,
   "metadata": {},
   "outputs": [
    {
     "name": "stdout",
     "output_type": "stream",
     "text": [
      "[[18  0  0  0  0  0  1  0  1  0]\n",
      " [ 0 20  0  0  0  0  0  0  0  0]\n",
      " [ 0  0 16  0  0  1  1  0  1  1]\n",
      " [ 0  0  0 17  0  1  0  0  2  0]\n",
      " [ 0  0  0  0 12  0  3  0  1  4]\n",
      " [ 0  0  0  0  2 14  0  0  3  1]\n",
      " [ 0  0  0  0  0  0 19  0  1  0]\n",
      " [ 0  0  0  0  3  0  0 12  0  5]\n",
      " [ 1  0  0  0  0  0  0  0 18  1]\n",
      " [ 1  0  0  1  3  0  0  1  1 13]]\n"
     ]
    }
   ],
   "source": [
    "classes = np.split(x,10)\n",
    "mean = np.zeros((10,784))\n",
    "var = np.zeros((10,784))\n",
    "for i in range(10):\n",
    "    mean[i] = np.mean(classes[i],0)\n",
    "    var[i] = np.var(classes[i],0)\n",
    "var = np.where(var<0.01,0.01,var)\n",
    "confusion_matrix =np.full((10,10),0)\n",
    "for i in range(x_test.shape[0]):\n",
    "    max = getclass(x_test[i],mean,var)\n",
    "    confusion_matrix[int(i/20)][max] = confusion_matrix[int(i/20)][max]+1\n",
    "print(confusion_matrix)"
   ]
  },
  {
   "cell_type": "code",
   "execution_count": null,
   "metadata": {},
   "outputs": [],
   "source": []
  },
  {
   "cell_type": "code",
   "execution_count": null,
   "metadata": {},
   "outputs": [],
   "source": []
  }
 ],
 "metadata": {
  "kernelspec": {
   "display_name": "Python 3",
   "language": "python",
   "name": "python3"
  },
  "language_info": {
   "codemirror_mode": {
    "name": "ipython",
    "version": 3
   },
   "file_extension": ".py",
   "mimetype": "text/x-python",
   "name": "python",
   "nbconvert_exporter": "python",
   "pygments_lexer": "ipython3",
   "version": "3.7.3"
  }
 },
 "nbformat": 4,
 "nbformat_minor": 2
}
