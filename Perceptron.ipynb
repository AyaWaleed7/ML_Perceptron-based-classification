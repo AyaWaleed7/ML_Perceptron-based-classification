{
 "cells": [
  {
   "cell_type": "code",
   "execution_count": 1,
   "metadata": {},
   "outputs": [],
   "source": [
    "import numpy as np \n",
    "import matplotlib.pyplot as plt"
   ]
  },
  {
   "cell_type": "code",
   "execution_count": 2,
   "metadata": {},
   "outputs": [],
   "source": [
    "#-----------------Create X----------------------\n",
    "x = np.zeros((2400,785))\n",
    "for i in range(x.shape[0]):\n",
    "    image_index = str(i+1)\n",
    "    url = \"./Train/\"+image_index+\".jpg\"\n",
    "    image = plt.imread(url)\n",
    "    x[i] = np.append(image.flatten(),[1])\n",
    "#-----------------Create T----------------------\n",
    "t = np.zeros((2400,10))\n",
    "for z in range(t.shape[1]):\n",
    "    rangez = (z+1)*240\n",
    "    for y in range(t.shape[0]):\n",
    "        if(y>=rangez-240 and y<rangez):\n",
    "            t[y][z]=1\n",
    "        else:\n",
    "            t[y][z]=-1\n",
    "t = np.transpose(t)\n",
    "#--------------------Create X_Test-------------------------------\n",
    "x_test = np.zeros((200,785))\n",
    "for i in range(x_test.shape[0]):\n",
    "    image_index = str(i+1)\n",
    "    url = \"./Test/\"+image_index+\".jpg\"\n",
    "    image = plt.imread(url)\n",
    "    x_test[i] = np.append(image.flatten(),[1])"
   ]
  },
  {
   "cell_type": "code",
   "execution_count": 3,
   "metadata": {},
   "outputs": [],
   "source": [
    "#--------------Perceptron-----------#\n",
    "def perceptron(x,t,n):\n",
    "    w = np.zeros((10,785))\n",
    "    for i in range(w.shape[0]):\n",
    "        w_initial = w[i]\n",
    "        w_initial[0] = 1\n",
    "        target = t[i]\n",
    "        for j in range(500):\n",
    "            for k in range(x.shape[0]):\n",
    "                cx = x[k]\n",
    "                p = np.dot(cx,np.transpose(w_initial))\n",
    "                if p>=0:\n",
    "                    p = 1\n",
    "                if p<0:\n",
    "                    p=-1\n",
    "                if(p!=target[k]):\n",
    "                    step = target[k]*n\n",
    "                    w_initial = w_initial + (cx*step)\n",
    "        w[i]= w_initial;\n",
    "    return w"
   ]
  },
  {
   "cell_type": "code",
   "execution_count": 4,
   "metadata": {},
   "outputs": [],
   "source": [
    "def getmaxindex(array):\n",
    "    max_index=0\n",
    "    for i in range(array.size):\n",
    "        if(array[max_index]<array[i]):\n",
    "            max_index = i        \n",
    "    return max_index\n",
    "def confusion(x_test,x,t,n):\n",
    "    w = perceptron(x,t,n)\n",
    "    y = np.dot(x_test, np.transpose(w))\n",
    "    final_sol = np.full((200,1),-1)\n",
    "    for i in range(y.shape[0]):\n",
    "        final_sol[i][0] = getmaxindex(y[i])\n",
    "    confusion_matrix =np.full((10,10),0)\n",
    "    for i in range(final_sol.shape[0]):\n",
    "        confusion_matrix[int(i/20)][final_sol[i][0]] = confusion_matrix[int(i/20)][final_sol[i][0]]+1\n",
    "    print(confusion_matrix)"
   ]
  },
  {
   "cell_type": "code",
   "execution_count": 5,
   "metadata": {},
   "outputs": [
    {
     "name": "stdout",
     "output_type": "stream",
     "text": [
      "[[19  0  0  0  0  0  1  0  0  0]\n",
      " [ 0 18  1  0  0  0  0  0  1  0]\n",
      " [ 0  1 16  1  1  0  0  0  1  0]\n",
      " [ 0  0  1 15  0  0  0  0  2  2]\n",
      " [ 0  0  0  0 17  1  0  0  0  2]\n",
      " [ 0  0  1  0  2 16  0  0  1  0]\n",
      " [ 0  0  0  0  0  1 18  0  1  0]\n",
      " [ 0  0  0  0  0  0  0 15  0  5]\n",
      " [ 0  0  0  0  0  0  0  0 19  1]\n",
      " [ 1  0  0  0  0  0  0  2  1 16]]\n"
     ]
    }
   ],
   "source": [
    "confusion(x_test,x,t,1)"
   ]
  },
  {
   "cell_type": "code",
   "execution_count": 6,
   "metadata": {},
   "outputs": [
    {
     "name": "stdout",
     "output_type": "stream",
     "text": [
      "[[19  0  0  0  0  0  1  0  0  0]\n",
      " [ 0 18  1  0  0  0  0  0  1  0]\n",
      " [ 0  1 16  1  1  0  0  0  1  0]\n",
      " [ 0  0  1 15  0  0  0  0  2  2]\n",
      " [ 0  0  0  0 17  1  0  0  0  2]\n",
      " [ 0  0  1  0  2 16  0  0  1  0]\n",
      " [ 0  0  0  0  0  1 18  0  1  0]\n",
      " [ 0  0  0  0  0  0  0 15  0  5]\n",
      " [ 0  0  0  0  0  0  0  0 19  1]\n",
      " [ 1  0  0  0  0  0  0  2  1 16]]\n"
     ]
    }
   ],
   "source": [
    "confusion(x_test,x,t,0.1)"
   ]
  },
  {
   "cell_type": "code",
   "execution_count": 7,
   "metadata": {},
   "outputs": [
    {
     "name": "stdout",
     "output_type": "stream",
     "text": [
      "[[19  0  0  0  0  0  1  0  0  0]\n",
      " [ 0 18  1  0  0  0  0  0  1  0]\n",
      " [ 0  1 16  1  1  0  0  0  1  0]\n",
      " [ 0  0  1 15  0  0  0  0  2  2]\n",
      " [ 0  0  0  0 17  1  0  0  0  2]\n",
      " [ 0  0  1  0  2 16  0  0  1  0]\n",
      " [ 0  0  0  0  0  1 18  0  1  0]\n",
      " [ 0  0  0  0  0  0  0 15  0  5]\n",
      " [ 0  0  0  0  0  0  0  0 19  1]\n",
      " [ 1  0  0  0  0  0  0  2  1 16]]\n"
     ]
    }
   ],
   "source": [
    "confusion(x_test,x,t,0.01)"
   ]
  },
  {
   "cell_type": "code",
   "execution_count": 8,
   "metadata": {},
   "outputs": [
    {
     "name": "stdout",
     "output_type": "stream",
     "text": [
      "[[19  0  0  0  0  0  1  0  0  0]\n",
      " [ 0 18  1  0  0  0  0  0  1  0]\n",
      " [ 0  1 16  1  1  0  0  0  1  0]\n",
      " [ 0  0  1 13  0  1  0  0  3  2]\n",
      " [ 0  0  0  0 17  0  0  0  0  3]\n",
      " [ 0  0  1  0  2 15  0  0  2  0]\n",
      " [ 0  0  0  0  0  1 18  0  1  0]\n",
      " [ 0  0  0  0  0  0  0 15  0  5]\n",
      " [ 0  0  0  0  0  0  0  0 19  1]\n",
      " [ 1  0  0  0  0  0  0  2  1 16]]\n"
     ]
    }
   ],
   "source": [
    "confusion(x_test,x,t,0.001)"
   ]
  },
  {
   "cell_type": "code",
   "execution_count": 9,
   "metadata": {},
   "outputs": [
    {
     "name": "stdout",
     "output_type": "stream",
     "text": [
      "[[20  0  0  0  0  0  0  0  0  0]\n",
      " [ 0 18  1  0  0  0  0  0  1  0]\n",
      " [ 0  1 16  0  1  1  0  0  1  0]\n",
      " [ 0  0  1 14  0  1  0  0  3  1]\n",
      " [ 0  0  0  0 16  2  0  0  1  1]\n",
      " [ 0  0  0  0  1 17  0  0  2  0]\n",
      " [ 0  0  0  0  0  1 18  0  1  0]\n",
      " [ 0  0  0  0  0  0  0 14  0  6]\n",
      " [ 0  0  0  0  0  0  0  0 19  1]\n",
      " [ 1  0  0  0  0  0  0  2  1 16]]\n"
     ]
    }
   ],
   "source": [
    "confusion(x_test,x,t,0.0001)"
   ]
  },
  {
   "cell_type": "code",
   "execution_count": 10,
   "metadata": {},
   "outputs": [
    {
     "name": "stdout",
     "output_type": "stream",
     "text": [
      "[[19  0  0  0  0  0  1  0  0  0]\n",
      " [ 0 18  1  0  0  0  0  0  1  0]\n",
      " [ 0  1 16  1  1  0  0  0  1  0]\n",
      " [ 1  0  1 14  0  0  0  0  1  3]\n",
      " [ 0  1  0  0 16  0  0  0  0  3]\n",
      " [ 0  0  1  0  2 14  0  0  3  0]\n",
      " [ 0  0  0  0  0  1 18  0  1  0]\n",
      " [ 0  0  0  0  0  0  0 12  0  8]\n",
      " [ 0  0  0  0  0  0  0  0 18  2]\n",
      " [ 1  0  0  0  0  0  0  2  1 16]]\n"
     ]
    }
   ],
   "source": [
    "confusion(x_test,x,t,0.00001)"
   ]
  },
  {
   "cell_type": "code",
   "execution_count": 11,
   "metadata": {},
   "outputs": [
    {
     "name": "stdout",
     "output_type": "stream",
     "text": [
      "[[19  0  0  0  0  0  1  0  0  0]\n",
      " [ 0 18  1  0  0  0  0  0  1  0]\n",
      " [ 0  1 16  1  1  0  0  0  1  0]\n",
      " [ 0  0  1 15  0  1  0  0  1  2]\n",
      " [ 0  1  0  0 16  0  0  0  0  3]\n",
      " [ 0  0  1  0  2 16  0  0  1  0]\n",
      " [ 0  0  0  0  0  1 18  0  1  0]\n",
      " [ 0  0  0  0  0  0  0 15  0  5]\n",
      " [ 0  0  0  0  0  0  0  0 19  1]\n",
      " [ 0  0  1  0  0  0  0  2  2 15]]\n"
     ]
    }
   ],
   "source": [
    "confusion(x_test,x,t,0.000001)"
   ]
  },
  {
   "cell_type": "code",
   "execution_count": 12,
   "metadata": {},
   "outputs": [
    {
     "name": "stdout",
     "output_type": "stream",
     "text": [
      "[[18  0  0  0  0  0  1  1  0  0]\n",
      " [ 0 19  0  0  0  0  0  0  1  0]\n",
      " [ 0  0 16  1  1  0  1  0  1  0]\n",
      " [ 0  0  1 16  0  0  0  0  2  1]\n",
      " [ 0  0  0  0 14  2  0  0  1  3]\n",
      " [ 0  0  1  1  0 16  0  0  2  0]\n",
      " [ 0  0  0  0  0  1 18  0  1  0]\n",
      " [ 0  0  0  0  0  0  0 16  0  4]\n",
      " [ 0  0  0  0  0  0  0  0 18  2]\n",
      " [ 0  0  1  0  0  0  0  2  1 16]]\n"
     ]
    }
   ],
   "source": [
    "confusion(x_test,x,t,0.0000001)"
   ]
  },
  {
   "cell_type": "code",
   "execution_count": 13,
   "metadata": {},
   "outputs": [
    {
     "name": "stdout",
     "output_type": "stream",
     "text": [
      "[[19  0  0  0  0  0  0  1  0  0]\n",
      " [ 0 19  0  0  0  0  0  0  1  0]\n",
      " [ 0  0 16  1  1  0  1  0  1  0]\n",
      " [ 0  0  1 17  0  0  0  0  2  0]\n",
      " [ 0  0  0  0 16  1  0  0  0  3]\n",
      " [ 0  0  1  1  0 17  0  0  1  0]\n",
      " [ 0  0  0  0  0  1 18  0  1  0]\n",
      " [ 0  0  0  0  1  0  0 17  0  2]\n",
      " [ 0  0  0  0  0  0  0  0 19  1]\n",
      " [ 0  0  1  0  0  0  0  3  1 15]]\n"
     ]
    }
   ],
   "source": [
    "confusion(x_test,x,t,0.00000001)"
   ]
  },
  {
   "cell_type": "code",
   "execution_count": 14,
   "metadata": {},
   "outputs": [
    {
     "name": "stdout",
     "output_type": "stream",
     "text": [
      "[[20  0  0  0  0  0  0  0  0  0]\n",
      " [ 0 19  0  0  0  0  0  0  1  0]\n",
      " [ 0  0 16  0  1  1  1  0  1  0]\n",
      " [ 0  0  1 17  0  1  0  0  1  0]\n",
      " [ 0  0  0  0 16  1  0  0  0  3]\n",
      " [ 0  0  1  1  0 17  0  0  1  0]\n",
      " [ 0  0  1  0  0  0 18  0  1  0]\n",
      " [ 0  0  0  0  2  0  0 18  0  0]\n",
      " [ 0  0  0  1  0  0  0  0 19  0]\n",
      " [ 0  0  1  0  0  1  0  4  0 14]]\n"
     ]
    }
   ],
   "source": [
    "confusion(x_test,x,t,0.000000001)"
   ]
  }
 ],
 "metadata": {
  "kernelspec": {
   "display_name": "Python 3",
   "language": "python",
   "name": "python3"
  },
  "language_info": {
   "codemirror_mode": {
    "name": "ipython",
    "version": 3
   },
   "file_extension": ".py",
   "mimetype": "text/x-python",
   "name": "python",
   "nbconvert_exporter": "python",
   "pygments_lexer": "ipython3",
   "version": "3.7.3"
  }
 },
 "nbformat": 4,
 "nbformat_minor": 2
}
